{
 "cells": [
  {
   "cell_type": "code",
   "execution_count": null,
   "id": "c671a5b6",
   "metadata": {},
   "outputs": [],
   "source": [
    "import cv2\n",
    "import numpy as np\n",
    "\n",
    "# Load the image\n",
    "image = cv2.imread(\"/Users/manasas/Desktop/Manasa.jpeg\")  # Replace \"path_to_image.jpg\" with the path to your image\n",
    "\n",
    "# Translation\n",
    "translation_matrix = np.float32([[1, 0, 100], [0, 1, 50]])  # Shift the image by 100 pixels to the right and 50 pixels down\n",
    "translated_image = cv2.warpAffine(image, translation_matrix, (image.shape[1], image.shape[0]))\n",
    "\n",
    "# Scaling\n",
    "scale_factor_x = 1.5\n",
    "scale_factor_y = 1.5\n",
    "scaled_image = cv2.resize(image, None, fx=scale_factor_x, fy=scale_factor_y)\n",
    "\n",
    "# Rotation\n",
    "angle = 30\n",
    "rotation_matrix = cv2.getRotationMatrix2D((image.shape[1] / 2, image.shape[0] / 2), angle, 1)\n",
    "rotated_image = cv2.warpAffine(image, rotation_matrix, (image.shape[1], image.shape[0]))\n",
    "\n",
    "# Perspective (Projective) Transformation\n",
    "pts1 = np.float32([[50, 50], [200, 50], [50, 200], [200, 200]])\n",
    "pts2 = np.float32([[0, 0], [image.shape[1], 0], [0, image.shape[0]], [image.shape[1], image.shape[0]]])\n",
    "perspective_matrix = cv2.getPerspectiveTransform(pts1, pts2)\n",
    "perspective_image = cv2.warpPerspective(image, perspective_matrix, (image.shape[1], image.shape[0]))\n",
    "\n",
    "# Display the transformed images\n",
    "cv2.imshow(\"Original Image\", image)\n",
    "cv2.imshow(\"Translated Image\", translated_image)\n",
    "cv2.imshow(\"Scaled Image\", scaled_image)\n",
    "cv2.imshow(\"Rotated Image\", rotated_image)\n",
    "cv2.imshow(\"Perspective Transformed Image\", perspective_image)\n",
    "\n",
    "cv2.waitKey(0)\n",
    "cv2.destroyAllWindows()\n"
   ]
  },
  {
   "cell_type": "code",
   "execution_count": null,
   "id": "5dc4e4b7",
   "metadata": {},
   "outputs": [],
   "source": []
  }
 ],
 "metadata": {
  "kernelspec": {
   "display_name": "Python 3 (ipykernel)",
   "language": "python",
   "name": "python3"
  },
  "language_info": {
   "codemirror_mode": {
    "name": "ipython",
    "version": 3
   },
   "file_extension": ".py",
   "mimetype": "text/x-python",
   "name": "python",
   "nbconvert_exporter": "python",
   "pygments_lexer": "ipython3",
   "version": "3.11.4"
  }
 },
 "nbformat": 4,
 "nbformat_minor": 5
}
